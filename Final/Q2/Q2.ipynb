{
 "cells": [
  {
   "cell_type": "code",
   "execution_count": 8,
   "id": "7d12e6eb-44de-448f-88e9-c672a4318dcb",
   "metadata": {},
   "outputs": [
    {
     "name": "stdin",
     "output_type": "stream",
     "text": [
      "Input your password Yane$09\n"
     ]
    },
    {
     "name": "stdout",
     "output_type": "stream",
     "text": [
      "Valid Password\n"
     ]
    }
   ],
   "source": [
    "import re\n",
    "\n",
    "# Prompt the user to input a password and store it in the variable 'p'\n",
    "p = input(\"Input your password\")\n",
    "\n",
    "# Set 'x' to True to enter the while loop\n",
    "x = True\n",
    "\n",
    "# Start a while loop that continues until 'x' is True\n",
    "while x:  \n",
    "    # Check conditions for a valid password:\n",
    "    # Password length should be maximum 8 characters\n",
    "    if (len(p) > 8):\n",
    "        break\n",
    "    # Password should contain at least one lowercase letter\n",
    "    elif not re.search(\"[a-z]\", p):\n",
    "        break\n",
    "    # Password should contain at least one digit\n",
    "    elif not re.search(\"[0-9]\", p):\n",
    "        break\n",
    "    # Password should contain at least one uppercase letter\n",
    "    elif not re.search(\"[A-Z]\", p):\n",
    "        break\n",
    "    # Password should contain at least one special character among '$', '#', '@'\n",
    "    elif not re.search(\"[$#@]\", p):\n",
    "        break\n",
    "    # Password should not contain any whitespace character\n",
    "    elif re.search(\"\\s\", p):\n",
    "        break\n",
    "    else:\n",
    "        # If all conditions are met, print \"Valid Password\" and set 'x' to False to exit the loop\n",
    "        print(\"Valid Password\")\n",
    "        x = False\n",
    "        break\n",
    "\n",
    "# If 'x' remains True, print \"Not a Valid Password\"\n",
    "if x:\n",
    "    print(\"Not a Valid Password\")"
   ]
  },
  {
   "cell_type": "code",
   "execution_count": null,
   "id": "98ea6b27-ef3f-4bbf-a244-df6fedd84262",
   "metadata": {},
   "outputs": [],
   "source": []
  }
 ],
 "metadata": {
  "kernelspec": {
   "display_name": "Python 3 (ipykernel)",
   "language": "python",
   "name": "python3"
  },
  "language_info": {
   "codemirror_mode": {
    "name": "ipython",
    "version": 3
   },
   "file_extension": ".py",
   "mimetype": "text/x-python",
   "name": "python",
   "nbconvert_exporter": "python",
   "pygments_lexer": "ipython3",
   "version": "3.11.7"
  }
 },
 "nbformat": 4,
 "nbformat_minor": 5
}
